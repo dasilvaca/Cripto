{
 "cells": [
  {
   "cell_type": "markdown",
   "metadata": {},
   "source": [
    "# Parcial Daniel Santiago Silva Capera"
   ]
  },
  {
   "cell_type": "markdown",
   "metadata": {},
   "source": [
    "## Alguien invento el siguiente método de cifrado basado en el algoritmo de cesar.\n",
    "\n",
    "$E(M_i) = (M_i + Key + i) mod 26$\n",
    "\n",
    "Donde i es el índice de la letra que se está cifrando.\n",
    "\n"
   ]
  },
  {
   "cell_type": "markdown",
   "metadata": {},
   "source": [
    "### a. ¿Cúal es la función que permitirá descifrar el mensaje cifrado con este método?"
   ]
  },
  {
   "cell_type": "code",
   "execution_count": 21,
   "metadata": {},
   "outputs": [],
   "source": [
    "def crypt(message, key):\n",
    "    message = message.lower().replace(\" \", \"\")\n",
    "    crypted_message = \"\"\n",
    "    for i in range(len(message)):\n",
    "        crypted_message += chr((ord(message[i]) - ord(\"a\") + key + i) % 26 + ord(\"a\"))\n",
    "    return crypted_message"
   ]
  },
  {
   "cell_type": "code",
   "execution_count": 22,
   "metadata": {},
   "outputs": [],
   "source": [
    "def decrypt(message, key):\n",
    "    message = message.lower().replace(\" \", \"\")\n",
    "    decrypted_message = \"\"\n",
    "    for i in range(len(message)):\n",
    "        decrypted_message += chr((ord(message[i]) - ord(\"a\") - key - i) % 26 + ord(\"a\"))\n",
    "    return decrypted_message"
   ]
  },
  {
   "cell_type": "code",
   "execution_count": 18,
   "metadata": {},
   "outputs": [
    {
     "name": "stdout",
     "output_type": "stream",
     "text": [
      "kiqrv\n",
      "hello\n"
     ]
    }
   ],
   "source": [
    "x = crypt(\"hello\", 3)\n",
    "print(x)\n",
    "print(decrypt(x, 3))"
   ]
  },
  {
   "cell_type": "markdown",
   "metadata": {},
   "source": [
    "La función que descifra el método es: $ D(M_i) =(M_i - key - i) mod 26 $"
   ]
  },
  {
   "cell_type": "markdown",
   "metadata": {},
   "source": [
    "### b.Demuestre que este método de cifrado es inseguro rompiendo el siguiente mensaje cifrado sin conocer la clave."
   ]
  },
  {
   "cell_type": "code",
   "execution_count": 19,
   "metadata": {},
   "outputs": [],
   "source": [
    "def brute_force_decrypt(message):\n",
    "    for i in range(26):\n",
    "        print(decrypt(message, i))"
   ]
  },
  {
   "cell_type": "code",
   "execution_count": 23,
   "metadata": {},
   "outputs": [
    {
     "name": "stdout",
     "output_type": "stream",
     "text": [
      "gvctxsmwiewc\n",
      "fubswrlvhdvb\n",
      "etarvqkugcua\n",
      "dszqupjtfbtz\n",
      "cryptoiseasy\n",
      "bqxosnhrdzrx\n",
      "apwnrmgqcyqw\n",
      "zovmqlfpbxpv\n",
      "ynulpkeoawou\n",
      "xmtkojdnzvnt\n",
      "wlsjnicmyums\n",
      "vkrimhblxtlr\n",
      "ujqhlgakwskq\n",
      "tipgkfzjvrjp\n",
      "shofjeyiuqio\n",
      "rgneidxhtphn\n",
      "qfmdhcwgsogm\n",
      "pelcgbvfrnfl\n",
      "odkbfaueqmek\n",
      "ncjaeztdpldj\n",
      "mbizdyscokci\n",
      "lahycxrbnjbh\n",
      "kzgxbwqamiag\n",
      "jyfwavpzlhzf\n",
      "ixevzuoykgye\n",
      "hwduytnxjfxd\n"
     ]
    }
   ],
   "source": [
    "brute_force_decrypt(\"GWEWBX SD QNGN\")"
   ]
  },
  {
   "cell_type": "markdown",
   "metadata": {},
   "source": [
    "El mensaje dice: \"CRYPTO IS EASY\""
   ]
  },
  {
   "cell_type": "markdown",
   "metadata": {},
   "source": [
    "## Cuál de los siguientes valores hexadecimales, usted diría que tiene mayor aleatoriedad. ¿Por qué?\n",
    "\n",
    "1. BB\n",
    "1. FC\n",
    "1. 00\n",
    "1. 9C\n",
    "1. 5A\n",
    "\n",
    "Pensaría que el valor 9C tiene mayor aleatoriedad porque es el que menos veces se podría repetir en un buen generador de números aleatorios. Descartando las opciones BB, 00 por tener valores repetidos en las letras, y que 00 es el primero de los valores hexadecimales, descartando FC porque F el último simbolo del sistema hexadecimal. 5A no es descartado. De hecho, para un buen generador de números aleatorios todos deben ser equiprobables, pero el valor menos esperado sería 5A o 9C."
   ]
  },
  {
   "cell_type": "markdown",
   "metadata": {},
   "source": [
    "## Cuantas operaciones a son requeridas para calcular $999999 ^ {32668} mod 192838917492379720945791820478478$"
   ]
  },
  {
   "cell_type": "markdown",
   "metadata": {},
   "source": [
    "El costo computacional para calcular la operación, usando exponenciación rápida es de: $ceil(log_2(32668)) = 15 $ por cada iteración en el código se aplica módulo, lo que al ser una operación del procesador decimos que es despreciable (aunque no lo es tanto, de hecho cuesta $log_2(a) log_2(b)$ siendo para a % b, y también depende de la base, pues se puede optimizar según su valor, y también de la cantidad de bits de cada uno)"
   ]
  },
  {
   "cell_type": "code",
   "execution_count": 25,
   "metadata": {},
   "outputs": [
    {
     "data": {
      "text/plain": [
       "(174925892503088421009991087159989, 15)"
      ]
     },
     "execution_count": 25,
     "metadata": {},
     "output_type": "execute_result"
    }
   ],
   "source": [
    "def iterative_fast_exponentiation(base, exp, mod):\n",
    "    result = 1\n",
    "    cnt = 0\n",
    "    while exp > 0:\n",
    "        cnt += 1\n",
    "        if exp % 2 == 1:\n",
    "            result = (result * base) % mod\n",
    "        base = (base * base) % mod\n",
    "        exp = exp // 2\n",
    "    return result, cnt\n",
    "\n",
    "iterative_fast_exponentiation(999999, 32668, 192838917492379720945791820478478)\n"
   ]
  },
  {
   "cell_type": "markdown",
   "metadata": {},
   "source": [
    "## Analice el siguiente protocolo.\n",
    "\n",
    "1. Describa brevemente que hace este protocolo\n",
    "1. ¿Funciona o no funciona? Explique su respuesta\n",
    "1. Tiene alguna debilidad este protocolo. ¿Es vulnerable a algún ataque?\n",
    "1. Realice una modificación a este protocolo adicionando autenticación."
   ]
  },
  {
   "cell_type": "markdown",
   "metadata": {},
   "source": [
    "### Descripción del protocolo\n",
    "\n",
    "1. Ana y Beto generan una clave pública A cada uno. Usan el método de logaritmo discreto.\n",
    "1. Beto obtiene la llave pública de Ana porque ella se la envía.\n",
    "1. Beto genera una clave para comunicarse con Ana (KA) usando la llave privada de él, un número primo p y la llave pública de Ana.\n",
    "1. Usando un número N entre 2 y p - 2, Beto encripta el mensaje multiplicando la llave que generó para comunicarse con Ana con N y le aplica módulo p. EM = (KA * N) mod p. El secreto es N.\n",
    "1. Bento envía su mensaje a Ana con su llave pública.\n",
    "1. Ana genera una llave para comunicarse con Beto usando la llave privada de ella y la pública de Beto\n",
    "1. Ana usa la llave que generó, la eleva a su llave privada al cuadrado y le aplica módulo p. Le llama a esto I.\n",
    "1. Ana desencripta el mensaje multiplicando I por la llave que generó para comunicarse con Beto y le aplica módulo p."
   ]
  },
  {
   "cell_type": "markdown",
   "metadata": {},
   "source": [
    "### Funciona o no funciona"
   ]
  },
  {
   "cell_type": "markdown",
   "metadata": {},
   "source": [
    "El decifrado no funciona de manera correcta, ya queel resultado de I * EM sigue quedando en terminos de una potencia de g, más no su inverso. Se debería elevar a a por 2 para poder tener su inverso y que al multiplicar se pueda obtener exactamente N."
   ]
  },
  {
   "cell_type": "markdown",
   "metadata": {},
   "source": [
    "### Debilidades del protocolo"
   ]
  },
  {
   "cell_type": "markdown",
   "metadata": {},
   "source": [
    "No se verifica la autenticación, por lo que se puede atacar, habiendolo corregido. No se límita la fuerza bruta haciendo verificaciones, por lo que de manera directa (con mucha paciencia) tiene un chance de acertar, mientras que si se autentica se reduce la probabilidad drasticamente en $\\frac{1}/{2n}$ la cantidad de veces que se pregunte. eso, si solamente usamos un conjunto de 2 preguntas de verificacion."
   ]
  },
  {
   "cell_type": "markdown",
   "metadata": {},
   "source": [
    "### Modifique el protocolo añadiendo autenticación"
   ]
  },
  {
   "cell_type": "markdown",
   "metadata": {},
   "source": [
    "Usando la analogía de alibaba, podemos hacer que se itere varias veces y de manera aleatoria la pregunta sobre si la llave que usa es la indicada, para que sea cada vez menos probable que lo rompa. Entonces sólo usamos una pregunta de autenticación para saber si la persona está siendo honesta o no."
   ]
  },
  {
   "cell_type": "markdown",
   "metadata": {},
   "source": [
    "##  Suponga que a es una variable que toma valores entre 0 y n - 1, con Probabilidades de $Pa_i$, y una muy mala variable aleatoria f que toma valores entre 0 y n - 1 con probabilidades $Pf_i$ Demuestre que el comportamiento de la siguiente función está dado por la variable de mayor aleatoriedad $(a + f) mod n$"
   ]
  },
  {
   "cell_type": "markdown",
   "metadata": {},
   "source": [
    "Si f esuna variable aleatoria MUY mala, quiere decir que los valores en ella casi nunca cambian, por lo que, al a cambiar significativamente, el comportamiento por cada iteración de la función $(a + f) mod n$ es diferente mayormente por responsabilidad de a que de f. De esta manera, el valor con mayor probabilidad de f aparecerá casi siempre, mientras que en a serían equiprobables, por lo que el comportamiento de la función depende casi enteramente de a. Teniendo en cuenta que f es una variable MUY mala, la distribución de la probabilidad puede recaer en un sólo elemento de f mientras los demás son 0, es decir, f es constante, mientras que a es aleatoria."
   ]
  }
 ],
 "metadata": {
  "interpreter": {
   "hash": "97cc609b13305c559618ec78a438abc56230b9381f827f22d070313b9a1f3777"
  },
  "kernelspec": {
   "display_name": "Python 3.10.4 64-bit",
   "language": "python",
   "name": "python3"
  },
  "language_info": {
   "codemirror_mode": {
    "name": "ipython",
    "version": 3
   },
   "file_extension": ".py",
   "mimetype": "text/x-python",
   "name": "python",
   "nbconvert_exporter": "python",
   "pygments_lexer": "ipython3",
   "version": "3.10.4"
  },
  "orig_nbformat": 4
 },
 "nbformat": 4,
 "nbformat_minor": 2
}
