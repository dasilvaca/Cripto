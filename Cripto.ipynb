{
 "cells": [
  {
   "cell_type": "markdown",
   "metadata": {},
   "source": [
    "# Preparativos Parcial"
   ]
  },
  {
   "cell_type": "markdown",
   "metadata": {},
   "source": [
    "## Cifrados Clásicos"
   ]
  },
  {
   "cell_type": "markdown",
   "metadata": {},
   "source": [
    "### Caesars Cipher (Cifrado de César)"
   ]
  },
  {
   "cell_type": "code",
   "execution_count": 2,
   "metadata": {},
   "outputs": [],
   "source": [
    "def caesars_encryptions(text, key):\n",
    "    \"\"\"\n",
    "    Encrypts a string using a Caesar cipher.\n",
    "    \"\"\"\n",
    "    text.lower()\n",
    "    result = \"\"\n",
    "    for char in text:\n",
    "        if char.isalpha():\n",
    "            result += chr(((ord(char) - ord('a') + key) % 26) + ord('a'))\n",
    "        else:\n",
    "            result += char\n",
    "    return result"
   ]
  },
  {
   "cell_type": "code",
   "execution_count": 3,
   "metadata": {},
   "outputs": [],
   "source": [
    "def caesars_decryptions(text, key):\n",
    "    \"\"\"\n",
    "    Decrypts a string using a Caesar cipher.\n",
    "    \"\"\"\n",
    "    text.lower()\n",
    "    result = \"\"\n",
    "    for char in text:\n",
    "        if char.isalpha():\n",
    "            result += chr(((ord(char) - ord('a') - key) % 26) + ord('a'))\n",
    "        else:\n",
    "            result += char\n",
    "    return result"
   ]
  },
  {
   "cell_type": "code",
   "execution_count": 4,
   "metadata": {},
   "outputs": [],
   "source": [
    "def brute_force_caesar(text):\n",
    "    \"\"\"\n",
    "    Brute force attack for Caesar cipher.\n",
    "    \"\"\"\n",
    "    for key in range(26):\n",
    "        print(caesars_decryptions(text, key), key)"
   ]
  },
  {
   "cell_type": "code",
   "execution_count": 5,
   "metadata": {},
   "outputs": [],
   "source": [
    "def returned_brute_force_caesar(text):\n",
    "    \"\"\"\n",
    "    Brute force attack for Caesar cipher.\n",
    "    \"\"\"\n",
    "    possible_keys = []\n",
    "    for key in range(26):\n",
    "        possible_keys.append(caesars_decryptions(text, key), key)\n",
    "    return possible_keys"
   ]
  },
  {
   "cell_type": "code",
   "execution_count": 6,
   "metadata": {},
   "outputs": [
    {
     "name": "stdout",
     "output_type": "stream",
     "text": [
      "rovvygybvn\n",
      "helloworld\n"
     ]
    }
   ],
   "source": [
    "# Some tests\n",
    "print(caesars_encryptions(\"helloworld\", ord(\"k\") - ord(\"a\")))\n",
    "print(caesars_decryptions(\"rovvygybvn\", ord(\"k\") - ord(\"a\")))"
   ]
  },
  {
   "cell_type": "markdown",
   "metadata": {},
   "source": [
    "### Vigenere Cipher (Cifrado de Vigenere)"
   ]
  },
  {
   "cell_type": "code",
   "execution_count": 7,
   "metadata": {},
   "outputs": [],
   "source": [
    "def vigener_encryptions(text, key):\n",
    "    \"\"\"\n",
    "    Encrypts a string using a Vigener cipher.\n",
    "    \"\"\"\n",
    "    text.lower()\n",
    "    key.lower()\n",
    "    result = \"\"\n",
    "    for i in range(len(text)):\n",
    "        result += chr(((ord(text[i]) - ord('a') + ord(key[i % len(key)]) - ord('a')) % 26) + ord('a'))\n",
    "    return result\n"
   ]
  },
  {
   "cell_type": "code",
   "execution_count": 8,
   "metadata": {},
   "outputs": [
    {
     "name": "stdout",
     "output_type": "stream",
     "text": [
      "rijvsuyvjn\n",
      "tklxuwaxlp\n"
     ]
    }
   ],
   "source": [
    "print(vigener_encryptions(\"helloworld\", \"key\"))\n",
    "print(caesars_decryptions(\"rijvsuyvjn\", ord(\"y\") - ord(\"a\")))"
   ]
  },
  {
   "cell_type": "code",
   "execution_count": 9,
   "metadata": {},
   "outputs": [],
   "source": [
    "def vigener_decryptions(text, key):\n",
    "    \"\"\"\n",
    "    Decrypts a string using a Vigener cipher.\n",
    "    \"\"\"\n",
    "    text.lower()\n",
    "    key.lower()\n",
    "    result = \"\"\n",
    "    for i in range(len(text)):\n",
    "        x = key[i % len(key)]\n",
    "        x_n = (ord(x) - ord('a')) % 26\n",
    "        y = text[i]\n",
    "        y_n = ord(y) - ord('a') % 26\n",
    "        result += chr(( (y_n - x_n) % 26) + ord('a'))\n",
    "    return result"
   ]
  },
  {
   "cell_type": "code",
   "execution_count": 10,
   "metadata": {},
   "outputs": [
    {
     "name": "stdout",
     "output_type": "stream",
     "text": [
      "helloworld\n",
      "hyzlikolzd\n"
     ]
    }
   ],
   "source": [
    "print(vigener_decryptions(\"rijvsuyvjn\", \"key\"))\n",
    "print(caesars_decryptions(\"rijvsuyvjn\", ord(\"k\") - ord(\"a\")))"
   ]
  },
  {
   "cell_type": "code",
   "execution_count": 11,
   "metadata": {},
   "outputs": [],
   "source": [
    "def get_every_string_of_length(alphabet, length):\n",
    "    \"\"\"\n",
    "    Returns every string of length from alphabet.\n",
    "    \"\"\"\n",
    "    src = alphabet\n",
    "    n = len(src)\n",
    "    m = length\n",
    "    l = [0]*m\n",
    "    i = 0\n",
    "    possible_strings = []\n",
    "    while i < m:\n",
    "        key = [src[x] for x in l]\n",
    "        key = \"\".join(key)\n",
    "        possible_strings.append(key)\n",
    "        i = 0\n",
    "        l[i] += 1\n",
    "        while (i < m) and l[i] >= n:\n",
    "            l[i] = 0\n",
    "            i += 1\n",
    "            if i < m:\n",
    "                l[i] += 1\n",
    "    return possible_strings"
   ]
  },
  {
   "cell_type": "code",
   "execution_count": 12,
   "metadata": {},
   "outputs": [],
   "source": [
    "def brute_force_vigener(text, key_length):\n",
    "    \"\"\"\n",
    "    Brute force attack for Vigener cipher.\n",
    "    \"\"\"\n",
    "    alphabet = \"abcdefghijklmnopqrstuvxyz\"\n",
    "    possible_strings= []\n",
    "    possible_keys = get_every_string_of_length(alphabet, key_length)\n",
    "    for key in possible_keys:\n",
    "        possible_strings.append(vigener_decryptions(text, key))\n",
    "    return possible_strings, possible_keys"
   ]
  },
  {
   "cell_type": "code",
   "execution_count": 13,
   "metadata": {},
   "outputs": [],
   "source": [
    "def brute_force_vigener_unknown_key_length(text):\n",
    "    \"\"\"\n",
    "    Brute force attack for Vigener cipher.\n",
    "    \"\"\"\n",
    "    for i in range(len(text)):\n",
    "        brute_force_vigener(text, i + 1)\n"
   ]
  },
  {
   "cell_type": "code",
   "execution_count": 14,
   "metadata": {},
   "outputs": [
    {
     "name": "stdout",
     "output_type": "stream",
     "text": [
      "dirpzenxcsfwyakenootlcdjtoqc\n"
     ]
    }
   ],
   "source": [
    "message =  \"buenoestaesunapalabracifrada\"\n",
    "encrypted_message = vigener_encryptions(message, \"conclave\")\n",
    "print(encrypted_message)\n",
    "possible_messages, possible_keys = brute_force_vigener(encrypted_message, 3)\n",
    "\n",
    "# for i in range(len(possible_messages)):\n",
    "    # print(possible_messages[i], possible_keys[i])"
   ]
  },
  {
   "cell_type": "markdown",
   "metadata": {},
   "source": [
    "### Frequency analisis(análisis de frecuencia)"
   ]
  },
  {
   "cell_type": "code",
   "execution_count": 15,
   "metadata": {},
   "outputs": [],
   "source": [
    "def coincidence_index(text):\n",
    "    \"\"\"\n",
    "    Returns the coincidence index of a string.\n",
    "    \"\"\"\n",
    "    text.lower()\n",
    "    text_length = len(text)\n",
    "    text_letters = {}\n",
    "    for char in text:\n",
    "        if char in text_letters:\n",
    "            text_letters[char] += 1\n",
    "        else:\n",
    "            text_letters[char] = 1\n",
    "    coincidence_index = 0\n",
    "    for key in text_letters:\n",
    "        coincidence_index += (text_letters[key] * (text_letters[key] - 1))\n",
    "    coincidence_index /= (text_length * (text_length - 1))\n",
    "    return coincidence_index"
   ]
  },
  {
   "cell_type": "code",
   "execution_count": 16,
   "metadata": {},
   "outputs": [
    {
     "data": {
      "text/plain": [
       "0.14285714285714285"
      ]
     },
     "execution_count": 16,
     "metadata": {},
     "output_type": "execute_result"
    }
   ],
   "source": [
    "coincidence_index(\"aacddee\")"
   ]
  },
  {
   "cell_type": "code",
   "execution_count": 17,
   "metadata": {},
   "outputs": [],
   "source": [
    "def expected_coincidence_index(alphabet_frequences):\n",
    "    \"\"\"\n",
    "    Returns the expected coincidence index of a string.\n",
    "    \"\"\"\n",
    "    coincidence_index = 0\n",
    "    for freq in alphabet_frequences:\n",
    "        coincidence_index += (freq * freq) / (100 * 100)\n",
    "    return coincidence_index"
   ]
  },
  {
   "cell_type": "code",
   "execution_count": 18,
   "metadata": {},
   "outputs": [
    {
     "data": {
      "text/plain": [
       "0.0622"
      ]
     },
     "execution_count": 18,
     "metadata": {},
     "output_type": "execute_result"
    }
   ],
   "source": [
    "alphabet_with_frequences_map = {\n",
    "    'a' : 8,\n",
    "    'b' : 1,\n",
    "    'c' : 3,\n",
    "    'd' : 4,\n",
    "    'e' : 12,\n",
    "    'f' : 2,\n",
    "    'g' : 2,\n",
    "    'h' : 6,\n",
    "    'i' : 7,\n",
    "    'j' : 1,\n",
    "    'k' : 1,\n",
    "    'l' : 4,\n",
    "    'm' : 2,\n",
    "    'n' : 6,\n",
    "    'o' : 7,\n",
    "    'p' : 2,\n",
    "    'q' : 1,\n",
    "    'r' : 6,\n",
    "    's' : 6,\n",
    "    't' : 9,\n",
    "    'u' : 4,\n",
    "    'v' : 2,\n",
    "    'w' : 2,\n",
    "    'x' : 1,\n",
    "    'y' : 2,\n",
    "    'z' : 1\n",
    "}\n",
    "\n",
    "expected_coincidence_index(list(alphabet_with_frequences_map.values()))"
   ]
  },
  {
   "cell_type": "code",
   "execution_count": 19,
   "metadata": {},
   "outputs": [],
   "source": [
    "# Most known coincidence index per language\n",
    "# English: 0.065\n",
    "# Spanish: 0.085\n",
    "# French: 0.07\n",
    "# German: 0.07\n",
    "# Italian: 0.07\n",
    "# Portuguese: 0.07\n",
    "\n",
    "# ----------------\n",
    "\n",
    "# Spanish: 0.0775 - 27 letters\n",
    "# English: 0.0667 - 26 letters\n",
    "# Russian: 0.0529 - 33 letters\n",
    "# German:  0.0762 - 32 letters\n",
    "\n",
    "\n"
   ]
  },
  {
   "cell_type": "code",
   "execution_count": 20,
   "metadata": {},
   "outputs": [],
   "source": [
    "def key_length_copilot(language_expected_coincidence_index, message):\n",
    "    \"\"\"\n",
    "    Returns the key length of a string.\n",
    "    \"\"\"\n",
    "    message.lower()\n",
    "    message_length = len(message)\n",
    "    key_length = 0\n",
    "    for i in range(1, message_length):\n",
    "        coincidence_index = 0\n",
    "        for j in range(i):\n",
    "            coincidence_index += (message_length * (message_length - 1)) / (i * (i - 1))\n",
    "        coincidence_index -= (message_length * (message_length - 1)) / (i * (i - 1))\n",
    "        coincidence_index /= (message_length - i)\n",
    "        coincidence_index -= language_expected_coincidence_index\n",
    "        if coincidence_index > 0:\n",
    "            key_length = i\n",
    "    return key_length"
   ]
  },
  {
   "cell_type": "code",
   "execution_count": 21,
   "metadata": {},
   "outputs": [],
   "source": [
    "def key_legth(lang_coincidence_index, message):\n",
    "    \"\"\"\n",
    "    Returns the key length of a string.\n",
    "    \"\"\"\n",
    "    message.lower()\n",
    "    coincidence_index(message)\n",
    "    constant = 0.03846\n",
    "    message_length = len(message)\n",
    "    key_length = message_length * (lang_coincidence_index - constant)\n",
    "    key_legth = key_length / (lang_coincidence_index - coincidence_index + (n * (coincidence_index - constant)))\n",
    "    return key_length"
   ]
  },
  {
   "cell_type": "markdown",
   "metadata": {},
   "source": [
    "Para claves largaas o tan largas como el mensaje mismo, la formula puede no ser aplicable. Se pierde información para el atacante, pues, no se podrá saber el idioma y el indice se acerca a 0.03846 en vez de 0.667 en el caso del idioma ingés\n",
    "\n",
    "Con ese indice podrá conocerse por ejemplo, si el texto en cuestión es cifrado o es plano.\n",
    "\n",
    "Se puede ajustar una clave que dé un mensaje aparentemente claro en el idioma, pero que esté cifrados en el idioma deseado."
   ]
  },
  {
   "cell_type": "code",
   "execution_count": 22,
   "metadata": {},
   "outputs": [],
   "source": [
    "def perfect_hidden_vigeniere_key(message, wanted_mesage):\n",
    "    \"\"\"\n",
    "    Returns the key of a Vigener cipher.\n",
    "    \"\"\"\n",
    "    message.lower()\n",
    "    wanted_mesage.lower()\n",
    "    key = \"\"\n",
    "    for i in range(len(message)):\n",
    "        m_i = ord(message[i]) - ord(\"a\")\n",
    "        w_i = ord(wanted_mesage[i]) - ord(\"a\")\n",
    "        if m_i < w_i:\n",
    "            m_i += 26\n",
    "        #print(m_i, w_i, m_i >= w_i)\n",
    "        # key += chr(ord(message[i]) - ord(wanted_mesage[i]))\n",
    "        key += chr((w_i - m_i) % 26 + ord(\"a\"))\n",
    "    return key"
   ]
  },
  {
   "cell_type": "code",
   "execution_count": 23,
   "metadata": {},
   "outputs": [
    {
     "name": "stdout",
     "output_type": "stream",
     "text": [
      "xikbdvznfare\n",
      "estarsoltera\n"
     ]
    }
   ],
   "source": [
    "print(perfect_hidden_vigeniere_key(\"estarsoltera\", \"badbunnyyeie\"))\n",
    "print(vigener_decryptions(\"badbunnyyeie\", \"xikbdvznfare\"))\n"
   ]
  },
  {
   "cell_type": "markdown",
   "metadata": {},
   "source": [
    "## Cifrado con XOR\n",
    "\n",
    "Se usan claves de un solo uso. La longitudo de la clave debe ser igual a la longitud del mensaje. se cifra y decifra usando el mismo algoritmo."
   ]
  },
  {
   "cell_type": "code",
   "execution_count": 24,
   "metadata": {},
   "outputs": [],
   "source": [
    "def xor_cypher(message, key):\n",
    "    \"\"\"\n",
    "    Returns the XOR cypher of a message.\n",
    "    \"\"\"\n",
    "    result = \"\"\n",
    "    for i in range(len(message)):\n",
    "        result += chr(ord(message[i]) ^ ord(key[i % len(key)]))\n",
    "    return result"
   ]
  },
  {
   "cell_type": "code",
   "execution_count": 25,
   "metadata": {},
   "outputs": [
    {
     "name": "stdout",
     "output_type": "stream",
     "text": [
      "\u000f\u001e\u0007\n",
      "W\u0015\u0016L\u0000\u001dF\t\u000f\u0005\u0000\u0004\u0005\u0003\n",
      "este es un mensaje\n"
     ]
    }
   ],
   "source": [
    "message = \"este es un mensaje\"\n",
    "key = \"jmsowpelusfdjkseof\"\n",
    "cyphered_message = xor_cypher(message, key)\n",
    "print(cyphered_message)\n",
    "print(xor_cypher(cyphered_message, key))"
   ]
  },
  {
   "cell_type": "markdown",
   "metadata": {},
   "source": [
    "Problemas con los cifrados de un sólo uso, es que al usarse más de una vez, se puede aplicar xor sobre 2 mensajes que hayan sido cifrados con la misma clave y encontrar fragmentos del mensaje original, o en muchos casos, el secreto completo. Por eso, por ejemplo, al usar rc4 con un vector de inicialización y una clave en rc4, lo hacían un objetivo fácil, ya que se requerían $2^{12}$ paquetes interceptados para obtener un mensaje repetido y obtener el acceso al servidor.\n",
    "https://null-byte.wonderhowto.com/how-to/hack-wi-fi-hunting-down-cracking-wep-networks-0183712/"
   ]
  },
  {
   "cell_type": "markdown",
   "metadata": {},
   "source": [
    "## Codificación\n",
    "Se usa la codificación para no usar símbolos que corrompan el mensae (como algunos caracteres especiales de ascii, por eso NO se recomienda usar ascii).\n",
    "\n",
    "Algunos codificadores conocidos son base 64 o base 58.\n",
    "\n",
    "En base 64, se usan sextuplas de los bits, y se completan con 0's hasta que sean 0ś en el último caracter, y se usan los grupos para obtener los nuevos caracteres.\n",
    "\n",
    "En base 58 se eliminan los simbolos más redundantes de base 64, por ejemplo."
   ]
  },
  {
   "cell_type": "markdown",
   "metadata": {},
   "source": [
    "## Principios de Kerchoffs\n",
    "\n",
    "**\"The enemy knows the system\"**. Por espionaje, traición u ingeniería inversa.\n",
    "\n",
    "1. El sistema NO es teóricamente irrompible. Al menos lo debe ser en la práctica.\n",
    "1. La efectividad del sistema NO debe depender de que su diseño permanezca en secreto. -- Importante --\n",
    "1. Los criptogramas deberán dar resultados alfanúmericos.\n",
    "1. El sistema debe ser fácil de utilizar.\n",
    "\n",
    "### Ventajas de Kerchoffs\n",
    "\n",
    "1. El escrutionio público conduce a una mayor confianza.\n",
    "1. No es necesario protegerse contra la ingeniería inversa.\n",
    "1. Se pueden establecer normas y estándares."
   ]
  },
  {
   "cell_type": "markdown",
   "metadata": {},
   "source": [
    "### Ataques de criptoanalisis\n",
    "\n",
    "1. Cipher-text only: El enemigo tiene acceso a una colección de mensajes cifrados.\n",
    "\n",
    "1. Known-plaintext: El enemigo conoce o sospecha partes del texto plano o texto cifrado.\n",
    "\n",
    "1. Chosen-ciphertext: El enemigo selecciona el texto cifrado y tiene acceso al texto plano.\n",
    "\n",
    "1. Chosen-plaintext: El enemigo selecciona el texto plano y tiene acceso al texto cifrado.\n",
    "\n",
    "1. Adaptive-ciphertext: El enemigo puede seleccionar un nuevo texto plano para cifrar basandose en las respuestas de ataque de texto plano elegido.\n",
    "\n",
    "1. Related-key attack: Ataque de texto plano elegido con dos claves diferentes"
   ]
  },
  {
   "cell_type": "markdown",
   "metadata": {},
   "source": [
    "## Entropy (Entropía)"
   ]
  },
  {
   "cell_type": "code",
   "execution_count": null,
   "metadata": {},
   "outputs": [],
   "source": []
  },
  {
   "cell_type": "markdown",
   "metadata": {},
   "source": [
    "# Modern Criptography (Criptografía moderna)"
   ]
  },
  {
   "cell_type": "markdown",
   "metadata": {},
   "source": [
    "## Product Ciphers"
   ]
  },
  {
   "cell_type": "code",
   "execution_count": null,
   "metadata": {},
   "outputs": [],
   "source": []
  },
  {
   "cell_type": "code",
   "execution_count": null,
   "metadata": {},
   "outputs": [],
   "source": []
  },
  {
   "cell_type": "markdown",
   "metadata": {},
   "source": [
    "# Asymmetric Ciphers"
   ]
  },
  {
   "cell_type": "code",
   "execution_count": 26,
   "metadata": {},
   "outputs": [],
   "source": [
    "def fast_exponentiation(base, exponent, modulus):\n",
    "    \"\"\"\n",
    "    Returns the exponentiation of a number.\n",
    "    \"\"\"\n",
    "    if exponent == 0:\n",
    "        return 1\n",
    "    if exponent == 1:\n",
    "        return base % modulus\n",
    "    if exponent % 2 == 0:\n",
    "        return fast_exponentiation(base * base % modulus, exponent // 2, modulus)\n",
    "    return base * fast_exponentiation(base, exponent - 1, modulus) % modulus\n",
    "\n",
    "def iterative_fast_exponentiation(base, exponent, modulus):\n",
    "    \"\"\"\n",
    "    Returns the exponentiation of a number.\n",
    "    \"\"\"\n",
    "    result = 1\n",
    "    while exponent > 0:\n",
    "        if exponent % 2 == 1:\n",
    "            result = result * base % modulus\n",
    "        exponent = exponent // 2\n",
    "        base = base * base % modulus\n",
    "    return result\n",
    "\n",
    "def gcd(a, b):\n",
    "    \"\"\"\n",
    "    Returns the greatest common divisor of two numbers.\n",
    "    \"\"\"\n",
    "    while b != 0:\n",
    "        a, b = b, a % b\n",
    "    return a\n",
    "\n",
    "def multiplicative_inverse(a, b):\n",
    "    \"\"\"\n",
    "    Returns the multiplicative inverse of a number.\n",
    "    \"\"\"\n",
    "    return fast_exponentiation(a, b - 2, b)\n",
    "\n"
   ]
  }
 ],
 "metadata": {
  "interpreter": {
   "hash": "97cc609b13305c559618ec78a438abc56230b9381f827f22d070313b9a1f3777"
  },
  "kernelspec": {
   "display_name": "Python 3.10.4 64-bit",
   "language": "python",
   "name": "python3"
  },
  "language_info": {
   "codemirror_mode": {
    "name": "ipython",
    "version": 3
   },
   "file_extension": ".py",
   "mimetype": "text/x-python",
   "name": "python",
   "nbconvert_exporter": "python",
   "pygments_lexer": "ipython3",
   "version": "3.10.4"
  },
  "orig_nbformat": 4
 },
 "nbformat": 4,
 "nbformat_minor": 2
}
