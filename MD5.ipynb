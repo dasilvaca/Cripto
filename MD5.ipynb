{
 "cells": [
  {
   "cell_type": "markdown",
   "metadata": {},
   "source": [
    "# Tarea Funciones Hash Daniel Santiago Silva Capera"
   ]
  },
  {
   "cell_type": "markdown",
   "metadata": {},
   "source": [
    "## ¿Cúantos intentos se requieren para encontrar una colisión a MD5 con una probabilidad mayor al 50%?"
   ]
  },
  {
   "cell_type": "markdown",
   "metadata": {},
   "source": [
    "Para solucionar el problema, primero describimos de manera breve MD5 (\"Message-Digest Algorithm 5\"), que dado un mensaje, lo asocia a un digest de 32 dígitos hexadecimales. Ahora hacemos el análisis sobre el espacio de la salida. Nos ayudamos usando la paradoja del cumpleaños de esta manera:\n",
    "1. La salida es de 32 dígitos exadecimales. Así que, hablando en terminos de bits, son 128 bits de salida. Por ende, serán $2^{128}$ posibles valores.\n",
    "1. Para una cádena cualquiera, el espacio en la tabla, va a ser de $2^{128}$. Es decir, la probabilidad de que encuentre su lugar en la tabla vacío, será de $2^{128}$/$2^{128}$.\n",
    "1. Para la siguiente cádena, la probabilidad de que encuentre su lugar vacío, será de ($2^{128} - 1$)/$2^{128}$. Y así de manera sucesiva. Hacemos esto un número n de veces. Y por cada ocasión, restamos el complemento probabilistico, hasta que ese resultado sea mayor o igual a 0.5 (50%). Y esos serán los intentos requeridos para encontrar una colisión con una probabilidad mayor al 50%."
   ]
  },
  {
   "cell_type": "code",
   "execution_count": null,
   "metadata": {},
   "outputs": [],
   "source": [
    "print(2**128)"
   ]
  },
  {
   "cell_type": "code",
   "execution_count": 6,
   "metadata": {},
   "outputs": [
    {
     "ename": "KeyboardInterrupt",
     "evalue": "",
     "output_type": "error",
     "traceback": [
      "\u001b[1;31m---------------------------------------------------------------------------\u001b[0m",
      "\u001b[1;31mKeyboardInterrupt\u001b[0m                         Traceback (most recent call last)",
      "\u001b[1;32mc:\\Users\\danie\\OneDrive\\Escritorio\\Scripting\\Cripto\\MD5.ipynb Cell 5'\u001b[0m in \u001b[0;36m<cell line: 4>\u001b[1;34m()\u001b[0m\n\u001b[0;32m      <a href='vscode-notebook-cell:/c%3A/Users/danie/OneDrive/Escritorio/Scripting/Cripto/MD5.ipynb#ch0000003?line=4'>5</a>\u001b[0m prod \u001b[39m*\u001b[39m\u001b[39m=\u001b[39m (i\u001b[39m/\u001b[39mchairs)\n\u001b[0;32m      <a href='vscode-notebook-cell:/c%3A/Users/danie/OneDrive/Escritorio/Scripting/Cripto/MD5.ipynb#ch0000003?line=5'>6</a>\u001b[0m complement \u001b[39m=\u001b[39m \u001b[39m1\u001b[39m \u001b[39m-\u001b[39m prod\n\u001b[1;32m----> <a href='vscode-notebook-cell:/c%3A/Users/danie/OneDrive/Escritorio/Scripting/Cripto/MD5.ipynb#ch0000003?line=6'>7</a>\u001b[0m \u001b[39mif\u001b[39;00m complement \u001b[39m>\u001b[39m\u001b[39m=\u001b[39m \u001b[39m0.5\u001b[39m:\n\u001b[0;32m      <a href='vscode-notebook-cell:/c%3A/Users/danie/OneDrive/Escritorio/Scripting/Cripto/MD5.ipynb#ch0000003?line=7'>8</a>\u001b[0m     \u001b[39mprint\u001b[39m((chairs \u001b[39m-\u001b[39m i) \u001b[39m+\u001b[39m \u001b[39m1\u001b[39m, complement)\n\u001b[0;32m      <a href='vscode-notebook-cell:/c%3A/Users/danie/OneDrive/Escritorio/Scripting/Cripto/MD5.ipynb#ch0000003?line=8'>9</a>\u001b[0m     \u001b[39mbreak\u001b[39;00m\n",
      "\u001b[1;31mKeyboardInterrupt\u001b[0m: "
     ]
    }
   ],
   "source": [
    "chairs = 2**128\n",
    "prod = 1\n",
    "complement = 0\n",
    "for i in range(chairs,0, -1):\n",
    "    prod *= (i/chairs)\n",
    "    complement = 1 - prod\n",
    "    if complement >= 0.5:\n",
    "        print((chairs - i) + 1, complement)\n",
    "        break\n"
   ]
  },
  {
   "cell_type": "markdown",
   "metadata": {},
   "source": [
    "Rewritting the expression:\n"
   ]
  },
  {
   "cell_type": "markdown",
   "metadata": {},
   "source": [
    "$1 - \\frac{2^{128}!}{2^{128} * (2^{128*n} - n )!} \\geq$ 0.5"
   ]
  },
  {
   "cell_type": "markdown",
   "metadata": {},
   "source": [
    "$\\sum_{k=1}^{n}(log_{2^{128}}(2^{128}-k)) - n \\leq log_{2^{128}}(0.5) - 1$"
   ]
  },
  {
   "cell_type": "code",
   "execution_count": null,
   "metadata": {},
   "outputs": [],
   "source": [
    "import math\n",
    "x = 2**128\n",
    "leq = log(x, 0.5) - 1\n",
    "n = 1\n",
    "expression = log(x, x - 1) - 1\n",
    "while expression > leq and n < x:\n",
    "    expression -= n\n",
    "    n += 1\n",
    "    expression += log(x, x - n)\n",
    "    expression += n\n",
    "print(n)"
   ]
  },
  {
   "cell_type": "markdown",
   "metadata": {},
   "source": [
    "Como se observa que computar ese número es demasiado costoso, lo que hacemos es hacer una estimación de la cantidad de intentos requeridos, usando la función $\\sqrt{x}$, ya que cortan de manera muy similar. Así que decimos que nuestro x es $2^{128}$.\n"
   ]
  },
  {
   "cell_type": "markdown",
   "metadata": {},
   "source": [
    "$\\sqrt{2^{128}} = 2^{\\frac{128}{2}} = 2^{64}$"
   ]
  },
  {
   "cell_type": "markdown",
   "metadata": {},
   "source": [
    "## Describa un algoritmo para buscar soluciones"
   ]
  },
  {
   "cell_type": "code",
   "execution_count": 6,
   "metadata": {},
   "outputs": [],
   "source": [
    "import hashlib\n",
    "\n",
    "def variable_length_brute_force(alphabet):\n",
    "    src = alphabet\n",
    "    n = len(src)\n",
    "    m = 1\n",
    "    find_collision = False\n",
    "    while not find_collision and m <= 1:\n",
    "        m += 1\n",
    "        # print(m)\n",
    "        l = [0]*m\n",
    "        i = 0\n",
    "        possible_strings = {}\n",
    "        while i < m:\n",
    "            key = [src[x] for x in l]\n",
    "            key = \"\".join(key)\n",
    "            key_ = key[::]\n",
    "            # print(key)\n",
    "            str2hash = hashlib.md5(key_.encode()).hexdigest()\n",
    "            if (str2hash in possible_strings):\n",
    "                print(\"FOUND\", possible_strings[str2hash], key, str2hash)\n",
    "                find_collision = True\n",
    "                break\n",
    "            else:\n",
    "                # print(key, str2hash)\n",
    "                possible_strings[str2hash] = key\n",
    "            i = 0\n",
    "            l[i] += 1\n",
    "            while (i < m) and l[i] >= n:\n",
    "                l[i] = 0\n",
    "                i += 1\n",
    "                if i < m:\n",
    "                    l[i] += 1\n",
    "    # return possible_strings\n",
    "\n",
    "    "
   ]
  },
  {
   "cell_type": "code",
   "execution_count": 8,
   "metadata": {},
   "outputs": [],
   "source": [
    "alphabet = ''.join(chr(i) for i in range(128))\n",
    "variable_length_brute_force(alphabet)"
   ]
  },
  {
   "cell_type": "markdown",
   "metadata": {},
   "source": [
    "## Basado en la paradoja del cumpleaños, ¿Cúantos bits debería tener una función hash para que sea computacionalmente inviable encontrar una colisión en computadores clásicos? Explique por qué llegó a ese valor."
   ]
  }
 ],
 "metadata": {
  "kernelspec": {
   "display_name": "Python 3.10.4 64-bit (system)",
   "language": "python",
   "name": "python3"
  },
  "language_info": {
   "codemirror_mode": {
    "name": "ipython",
    "version": 3
   },
   "file_extension": ".py",
   "mimetype": "text/x-python",
   "name": "python",
   "nbconvert_exporter": "python",
   "pygments_lexer": "ipython3",
   "version": "3.10.4"
  },
  "orig_nbformat": 4,
  "vscode": {
   "interpreter": {
    "hash": "2a8dfe095fce2b5e88c64a2c3ee084c8e0e0d70b23e7b95b1cfb538be294c5c8"
   }
  }
 },
 "nbformat": 4,
 "nbformat_minor": 2
}
