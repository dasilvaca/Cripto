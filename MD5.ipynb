{
 "cells": [
  {
   "cell_type": "markdown",
   "metadata": {},
   "source": [
    "# Tarea Funciones Hash Daniel Santiago Silva Capera"
   ]
  },
  {
   "cell_type": "markdown",
   "metadata": {},
   "source": [
    "## ¿Cúantos intentos se requieren para encontrar una colisión a MD5 con una probabilidad mayor al 50%?"
   ]
  },
  {
   "cell_type": "markdown",
   "metadata": {},
   "source": [
    "Para solucionar el problema, primero describimos de manera breve MD5 (\"Message-Digest Algorithm 5\"), que dado un mensaje, lo asocia a un digest de 32 dígitos hexadecimales. Ahora hacemos el análisis sobre el espacio de la salida. Nos ayudamos usando la paradoja del cumpleaños de esta manera:\n",
    "1. La salida es de 32 dígitos exadecimales. Así que, hablando en terminos de bits, son 512 bits de salida.\n",
    "1. Para una cádena cualquiera, el espacio en la tabla, va a ser de 512. Es decir, la probabilidad de que encuentre su lugar en la tabla vacío, será de 512/512.\n",
    "1. Para la siguiente cádena, la probabilidad de que encuentre su lugar vacío, será de 511/512. Y así de manera sucesiva. Hacemos esto un número n de veces. Y por cada ocasión, restamos el complemento probabilistico, hasta que ese resultado sea mayor o igual a 0.5 (50%). Y esos serán los intentos requeridos para encontrar una colisión con una probabilidad mayor al 50%."
   ]
  },
  {
   "cell_type": "code",
   "execution_count": 18,
   "metadata": {},
   "outputs": [
    {
     "name": "stdout",
     "output_type": "stream",
     "text": [
      "27 0.5022663350481229\n"
     ]
    }
   ],
   "source": [
    "chairs = 512\n",
    "prod = 1\n",
    "complement = 0\n",
    "for i in range(512,0, -1):\n",
    "    # print(i, \"/ 512\")\n",
    "    prod *= (i/512)\n",
    "    complement = 1 - prod\n",
    "    # print(prod, complement)\n",
    "    if complement > 0.5:\n",
    "        print((512 - i) + 1, complement)\n",
    "        break\n"
   ]
  },
  {
   "cell_type": "markdown",
   "metadata": {},
   "source": [
    "## Describa un algrotimo para buscar soluciones"
   ]
  },
  {
   "cell_type": "markdown",
   "metadata": {},
   "source": [
    "## Basado en la paradoja del cumpleaños, ¿Cúantos bits debería tener una función hash para que sea computacionalmente inviable encontrar una colisión en computadores clásicos? Explique por qué llegó a ese valor."
   ]
  }
 ],
 "metadata": {
  "interpreter": {
   "hash": "9518128f597d7b00dc14729602cfd87fb7b2cf75925976bcb0d0e328a830a12b"
  },
  "kernelspec": {
   "display_name": "Python 3.9.13 64-bit",
   "language": "python",
   "name": "python3"
  },
  "language_info": {
   "codemirror_mode": {
    "name": "ipython",
    "version": 3
   },
   "file_extension": ".py",
   "mimetype": "text/x-python",
   "name": "python",
   "nbconvert_exporter": "python",
   "pygments_lexer": "ipython3",
   "version": "3.10.4"
  },
  "orig_nbformat": 4
 },
 "nbformat": 4,
 "nbformat_minor": 2
}
