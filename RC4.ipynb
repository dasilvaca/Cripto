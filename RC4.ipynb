{
 "cells": [
  {
   "cell_type": "markdown",
   "metadata": {},
   "source": [
    "# RC4 Cypher Method\n",
    "\n",
    "## First of all, let's define the RC4 cypher method."
   ]
  },
  {
   "cell_type": "code",
   "execution_count": 31,
   "metadata": {},
   "outputs": [],
   "source": [
    "def RC4(message, key):\n",
    "    K = key# \"thisisaverylongkey\"\n",
    "    T = []\n",
    "    S = []\n",
    "\n",
    "    ciphered_message = []\n",
    "\n",
    "    for i in range(256):\n",
    "        S.append(i)\n",
    "        T.append(K[i % len(K)])\n",
    "\n",
    "    j = 0\n",
    "    for i in range(256):\n",
    "        j = (j + S[i] + ord(T[i])) % 256\n",
    "        S[i], S[j] = S[j], S[i]\n",
    "\n",
    "    i, j = 0, 0\n",
    "\n",
    "    for l in range(len(message)):\n",
    "        i = (i + 1) % 256\n",
    "        j = (j + S[i]) % 256\n",
    "        S[i], S[j] = S[j], S[i]\n",
    "        if type(message) == str:\n",
    "            ciphered_message.append(chr(ord(message[l]) ^ S[(S[i] + S[j]) % 256]))\n",
    "        elif type(message) == list:\n",
    "            ciphered_message.append(chr(ord(message[l]) ^ S[(S[i] + S[j]) % 256]))\n",
    "\n",
    "    \n",
    "    # print(ciphered_message)\n",
    "    return ciphered_message\n"
   ]
  },
  {
   "cell_type": "markdown",
   "metadata": {},
   "source": [
    "The code for work needs a key. The key is a sequence of bytes or chars that we use to encrypt or decrypt the data. This method works as cypher and a decypher using the same key.\n",
    "\n",
    "For example, we use the key defined as key on the code as \"thisisaverylongkey\". So, lets cypher and decypher the message \"this is a very long message\"."
   ]
  },
  {
   "cell_type": "code",
   "execution_count": 32,
   "metadata": {},
   "outputs": [
    {
     "name": "stdout",
     "output_type": "stream",
     "text": [
      "cyphered text['¯', '\\xa0', 'ð', '\\x12', 'Ü', 'Á', '\\x9c', 'C', 'Ð', 'Þ', 'a', '\\x07', '\\n', '#', 'ú', '\\x11', 'P', '§', '9', 'ç', 'î', 'Ó', '\\xad', '\\x00', '¼', 'Æ', 'Ø']\n",
      "decyphered text['t', 'h', 'i', 's', ' ', 'i', 's', ' ', 'a', ' ', 'v', 'e', 'r', 'y', ' ', 'l', 'o', 'n', 'g', ' ', 'm', 'e', 's', 's', 'a', 'g', 'e']\n"
     ]
    }
   ],
   "source": [
    "message = \"this is a very long message\"\n",
    "key = \"thisisaverylongkey\"\n",
    "ciphered_message = RC4(message, key)\n",
    "print(\"cyphered text\" + str(ciphered_message))\n",
    "print(\"decyphered text\" + str(RC4(ciphered_message, key)))"
   ]
  },
  {
   "cell_type": "markdown",
   "metadata": {},
   "source": [
    "We can rewrite the code encapsulating each phase of the cypher. In this case we want to encapsulate the intialization phase:"
   ]
  },
  {
   "cell_type": "code",
   "execution_count": 40,
   "metadata": {},
   "outputs": [],
   "source": [
    "def RC4_initialization(key):\n",
    "    K = key # \"thisisaverylongkey\"\n",
    "    T = []\n",
    "    S = []\n",
    "\n",
    "    for i in range(256):\n",
    "        S.append(i)\n",
    "        T.append(K[i % len(K)])\n",
    "\n",
    "    j = 0\n",
    "    for i in range(256):\n",
    "        j = (j + S[i] + ord(T[i])) % 256\n",
    "        S[i], S[j] = S[j], S[i]\n",
    "\n",
    "    return T, S, K\n",
    "\n",
    "def RC4_encapsulated(message, key):\n",
    "    T, S, K = RC4_initialization(key)\n",
    "    ciphered_message = []\n",
    "    i, j = 0, 0\n",
    "\n",
    "    for l in range(len(message)):\n",
    "        i = (i + 1) % 256\n",
    "        j = (j + S[i]) % 256\n",
    "        S[i], S[j] = S[j], S[i]\n",
    "        if type(message) == str:\n",
    "            ciphered_message.append(chr(ord(message[l]) ^ S[(S[i] + S[j]) % 256]))\n",
    "        elif type(message) == list:\n",
    "            ciphered_message.append(chr(ord(message[l]) ^ S[(S[i] + S[j]) % 256]))\n",
    "\n",
    "    \n",
    "    # print(ciphered_message)\n",
    "    return ciphered_message"
   ]
  },
  {
   "cell_type": "code",
   "execution_count": 41,
   "metadata": {},
   "outputs": [
    {
     "name": "stdout",
     "output_type": "stream",
     "text": [
      "cyphered text['¯', '\\xa0', 'ð', '\\x12', 'Ü', 'Á', '\\x9c', 'C', 'Ð', 'Þ', 'a', '\\x07', '\\n', '#', 'ú', '\\x11', 'P', '§', '9', 'ç', 'î', 'Ó', '\\xad', '\\x00', '¼', 'Æ', 'Ø']\n",
      "decyphered text['t', 'h', 'i', 's', ' ', 'i', 's', ' ', 'a', ' ', 'v', 'e', 'r', 'y', ' ', 'l', 'o', 'n', 'g', ' ', 'm', 'e', 's', 's', 'a', 'g', 'e']\n"
     ]
    }
   ],
   "source": [
    "message = \"this is a very long message\"\n",
    "key = \"thisisaverylongkey\"\n",
    "ciphered_message = RC4_encapsulated(message, key)\n",
    "print(\"cyphered text\" + str(ciphered_message))\n",
    "print(\"decyphered text\" + str(RC4_encapsulated(ciphered_message, key)))"
   ]
  },
  {
   "cell_type": "markdown",
   "metadata": {},
   "source": [
    "Now, lets prove it"
   ]
  },
  {
   "cell_type": "markdown",
   "metadata": {},
   "source": [
    "## Now, lets calculate an array T to mantain array S intact after initialization. \n",
    "\n",
    "As K is needed to calculate T, so, lets find a key K to calculate T that achieves our wanted result. So, we don't actually need to know the key, because we are going to calculate the key.\n",
    "\n",
    "Lets analyse the code below. corresponding to initailization phase."
   ]
  },
  {
   "cell_type": "markdown",
   "metadata": {},
   "source": [
    "```python\n",
    "# As we now are going to calculate the key, let's comment it\n",
    "# K = \"thisisaverylongkey\"\n",
    "T = []\n",
    "S = []\n",
    "\n",
    "# message = ['¯', '\\xa0', 'ð', '\\x12', 'Ü', 'Á', '\\x9c', 'C', 'Ð', 'Þ', 'a', '\\x07', '\\n', '#', 'ú', '\\x11', 'P', '§', '9', 'ç', 'î', 'Ó', '\\xad', '\\x00', '¼', 'Æ', 'Ø']\n",
    "# message = \"this is a very long message\"\n",
    "ciphered_message = []\n",
    "\n",
    "for i in range(256):\n",
    "    S.append(i)\n",
    "    # T.append(K[i % len(K)]) We also are going to calculate T array, so, let's comment this line too\n",
    "\n",
    "j = 0\n",
    "for i in range(256):\n",
    "    # In this code line we see that to mantain S intact, we need j to be equal to the value of i in that way, \n",
    "    # when we swap variables S[i], S[j] = S[j], S[i] == S[i], S[i] = S[i], S[i].\n",
    "    # For it to happen we need to j + T[i] == 256, to be cancelled with the modulus 256, and as S[i] got the value of i, j will be equal to i.\n",
    "    # So, our array T must be equal to a multiple of 256 - i for each T[i] item.\n",
    "    j = (j + S[i] + ord(T[i])) % 256 \n",
    "    S[i], S[j] = S[j], S[i]\n",
    "```"
   ]
  },
  {
   "cell_type": "markdown",
   "metadata": {},
   "source": [
    "Lets code it!"
   ]
  },
  {
   "cell_type": "code",
   "execution_count": 64,
   "metadata": {},
   "outputs": [],
   "source": [
    "# Let be n a positive integer to get a multiple of 256 - i on each item of the array T.\n",
    "\n",
    "def arrayT_gen(n):\n",
    "    if n == 0:\n",
    "        n = 1\n",
    "    elif n < 0:\n",
    "        n = -n\n",
    "    T = []\n",
    "    for i in range(256):\n",
    "        if i > 0:\n",
    "            T.append(((256 * n) - i) + 1)\n",
    "        else:\n",
    "            T.append(((256 * n) - i))\n",
    "    return T\n",
    "\n",
    "def key_gen(n):\n",
    "    T = arrayT_gen(n)\n",
    "    k = []\n",
    "    for i in range(len(T)):\n",
    "        k.append(chr(T[i]))\n",
    "    return k"
   ]
  },
  {
   "cell_type": "markdown",
   "metadata": {},
   "source": [
    "Now, lets generate a key K to calculate T."
   ]
  },
  {
   "cell_type": "code",
   "execution_count": 65,
   "metadata": {},
   "outputs": [
    {
     "name": "stdout",
     "output_type": "stream",
     "text": [
      "['Ā', 'Ā', 'ÿ', 'þ', 'ý', 'ü', 'û', 'ú', 'ù', 'ø', '÷', 'ö', 'õ', 'ô', 'ó', 'ò', 'ñ', 'ð', 'ï', 'î', 'í', 'ì', 'ë', 'ê', 'é', 'è', 'ç', 'æ', 'å', 'ä', 'ã', 'â', 'á', 'à', 'ß', 'Þ', 'Ý', 'Ü', 'Û', 'Ú', 'Ù', 'Ø', '×', 'Ö', 'Õ', 'Ô', 'Ó', 'Ò', 'Ñ', 'Ð', 'Ï', 'Î', 'Í', 'Ì', 'Ë', 'Ê', 'É', 'È', 'Ç', 'Æ', 'Å', 'Ä', 'Ã', 'Â', 'Á', 'À', '¿', '¾', '½', '¼', '»', 'º', '¹', '¸', '·', '¶', 'µ', '´', '³', '²', '±', '°', '¯', '®', '\\xad', '¬', '«', 'ª', '©', '¨', '§', '¦', '¥', '¤', '£', '¢', '¡', '\\xa0', '\\x9f', '\\x9e', '\\x9d', '\\x9c', '\\x9b', '\\x9a', '\\x99', '\\x98', '\\x97', '\\x96', '\\x95', '\\x94', '\\x93', '\\x92', '\\x91', '\\x90', '\\x8f', '\\x8e', '\\x8d', '\\x8c', '\\x8b', '\\x8a', '\\x89', '\\x88', '\\x87', '\\x86', '\\x85', '\\x84', '\\x83', '\\x82', '\\x81', '\\x80', '\\x7f', '~', '}', '|', '{', 'z', 'y', 'x', 'w', 'v', 'u', 't', 's', 'r', 'q', 'p', 'o', 'n', 'm', 'l', 'k', 'j', 'i', 'h', 'g', 'f', 'e', 'd', 'c', 'b', 'a', '`', '_', '^', ']', '\\\\', '[', 'Z', 'Y', 'X', 'W', 'V', 'U', 'T', 'S', 'R', 'Q', 'P', 'O', 'N', 'M', 'L', 'K', 'J', 'I', 'H', 'G', 'F', 'E', 'D', 'C', 'B', 'A', '@', '?', '>', '=', '<', ';', ':', '9', '8', '7', '6', '5', '4', '3', '2', '1', '0', '/', '.', '-', ',', '+', '*', ')', '(', \"'\", '&', '%', '$', '#', '\"', '!', ' ', '\\x1f', '\\x1e', '\\x1d', '\\x1c', '\\x1b', '\\x1a', '\\x19', '\\x18', '\\x17', '\\x16', '\\x15', '\\x14', '\\x13', '\\x12', '\\x11', '\\x10', '\\x0f', '\\x0e', '\\r', '\\x0c', '\\x0b', '\\n', '\\t', '\\x08', '\\x07', '\\x06', '\\x05', '\\x04', '\\x03', '\\x02']\n"
     ]
    }
   ],
   "source": [
    "k = key_gen(1)\n",
    "print(k)"
   ]
  },
  {
   "cell_type": "markdown",
   "metadata": {},
   "source": [
    "Now, lets put it together on our initialization phase and see our arrays:"
   ]
  },
  {
   "cell_type": "code",
   "execution_count": 69,
   "metadata": {},
   "outputs": [
    {
     "name": "stdout",
     "output_type": "stream",
     "text": [
      "[0, 1, 2, 3, 4, 5, 6, 7, 8, 9, 10, 11, 12, 13, 14, 15, 16, 17, 18, 19, 20, 21, 22, 23, 24, 25, 26, 27, 28, 29, 30, 31, 32, 33, 34, 35, 36, 37, 38, 39, 40, 41, 42, 43, 44, 45, 46, 47, 48, 49, 50, 51, 52, 53, 54, 55, 56, 57, 58, 59, 60, 61, 62, 63, 64, 65, 66, 67, 68, 69, 70, 71, 72, 73, 74, 75, 76, 77, 78, 79, 80, 81, 82, 83, 84, 85, 86, 87, 88, 89, 90, 91, 92, 93, 94, 95, 96, 97, 98, 99, 100, 101, 102, 103, 104, 105, 106, 107, 108, 109, 110, 111, 112, 113, 114, 115, 116, 117, 118, 119, 120, 121, 122, 123, 124, 125, 126, 127, 128, 129, 130, 131, 132, 133, 134, 135, 136, 137, 138, 139, 140, 141, 142, 143, 144, 145, 146, 147, 148, 149, 150, 151, 152, 153, 154, 155, 156, 157, 158, 159, 160, 161, 162, 163, 164, 165, 166, 167, 168, 169, 170, 171, 172, 173, 174, 175, 176, 177, 178, 179, 180, 181, 182, 183, 184, 185, 186, 187, 188, 189, 190, 191, 192, 193, 194, 195, 196, 197, 198, 199, 200, 201, 202, 203, 204, 205, 206, 207, 208, 209, 210, 211, 212, 213, 214, 215, 216, 217, 218, 219, 220, 221, 222, 223, 224, 225, 226, 227, 228, 229, 230, 231, 232, 233, 234, 235, 236, 237, 238, 239, 240, 241, 242, 243, 244, 245, 246, 247, 248, 249, 250, 251, 252, 253, 254, 255]\n"
     ]
    }
   ],
   "source": [
    "key = key_gen(1)\n",
    "\n",
    "T, S, k = RC4_initialization(key)\n",
    "\n",
    "print(S)\n"
   ]
  },
  {
   "cell_type": "markdown",
   "metadata": {},
   "source": [
    "As we see, S before initialization is equal to S after initialization. Both are arrays from 0 to 255."
   ]
  }
 ],
 "metadata": {
  "interpreter": {
   "hash": "4f3b078249380ea762697f4f8f6aea77b3d6e43cbb1b18cbb73d8cde5aa597e7"
  },
  "kernelspec": {
   "display_name": "Python 3.10.4 64-bit (system)",
   "language": "python",
   "name": "python3"
  },
  "language_info": {
   "codemirror_mode": {
    "name": "ipython",
    "version": 3
   },
   "file_extension": ".py",
   "mimetype": "text/x-python",
   "name": "python",
   "nbconvert_exporter": "python",
   "pygments_lexer": "ipython3",
   "version": "3.10.4"
  },
  "orig_nbformat": 4
 },
 "nbformat": 4,
 "nbformat_minor": 2
}
